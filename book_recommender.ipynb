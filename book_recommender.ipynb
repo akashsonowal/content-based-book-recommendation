{
  "nbformat": 4,
  "nbformat_minor": 0,
  "metadata": {
    "colab": {
      "name": "book-recommender.ipynb",
      "provenance": [],
      "mount_file_id": "1xFC4TeEitp5JNGYq11t0UOiQ6Njx1dyp",
      "authorship_tag": "ABX9TyPUsiqo8p9b6R5UT0+KpqPD",
      "include_colab_link": true
    },
    "kernelspec": {
      "name": "python3",
      "display_name": "Python 3"
    },
    "language_info": {
      "name": "python"
    }
  },
  "cells": [
    {
      "cell_type": "markdown",
      "metadata": {
        "id": "view-in-github",
        "colab_type": "text"
      },
      "source": [
        "<a href=\"https://colab.research.google.com/github/akashsonowal/content-based-book-recommendation/blob/main/book_recommender.ipynb\" target=\"_parent\"><img src=\"https://colab.research.google.com/assets/colab-badge.svg\" alt=\"Open In Colab\"/></a>"
      ]
    },
    {
      "cell_type": "markdown",
      "metadata": {
        "id": "ASt1pSM1vjpD"
      },
      "source": [
        "**Darwin's bibliography**\n",
        "\n",
        "Charles Darwin is one of the few universal figures of science. His most renowned work is without a doubt his \"On the Origin of Species\" published in 1859 which introduced the concept of natural selection. But Darwin wrote many other books on a wide range of topics, including geology, plants or his personal life. In this notebook, we will automatically detect how closely related his books are to each other.\n",
        "\n",
        "To this purpose, we will develop the bases of a content-based book recommendation system, which will determine which books are close to each other based on how similar the discussed topics are. The methods we will use are commonly used in text- or documents-heavy industries such as legal, tech or customer support to perform some common task such as text classification or handling search engine queries.\n",
        "\n",
        "Let's take a look at the books we'll use in our recommendation system."
      ]
    },
    {
      "cell_type": "code",
      "metadata": {
        "colab": {
          "base_uri": "https://localhost:8080/"
        },
        "id": "FdM4JGylbv6O",
        "outputId": "5f2719c9-10df-4d5c-c812-435ee1f51700"
      },
      "source": [
        "# Import library\n",
        "import glob\n",
        "\n",
        "# The books files are contained in this folder\n",
        "folder = \"/content/drive/MyDrive/Projects/02. Book Recommendations from Charles Darwin/datasets/\"\n",
        "# List all the .txt files and sort them alphabetically\n",
        "files = sorted(glob.glob(folder + '*.txt'))\n",
        "files"
      ],
      "execution_count": null,
      "outputs": [
        {
          "output_type": "execute_result",
          "data": {
            "text/plain": [
              "['/content/drive/MyDrive/Projects/02. Book Recommendations from Charles Darwin/datasets/Autobiography.txt',\n",
              " '/content/drive/MyDrive/Projects/02. Book Recommendations from Charles Darwin/datasets/CoralReefs.txt',\n",
              " '/content/drive/MyDrive/Projects/02. Book Recommendations from Charles Darwin/datasets/DescentofMan.txt',\n",
              " '/content/drive/MyDrive/Projects/02. Book Recommendations from Charles Darwin/datasets/DifferentFormsofFlowers.txt',\n",
              " '/content/drive/MyDrive/Projects/02. Book Recommendations from Charles Darwin/datasets/EffectsCrossSelfFertilization.txt',\n",
              " '/content/drive/MyDrive/Projects/02. Book Recommendations from Charles Darwin/datasets/ExpressionofEmotionManAnimals.txt',\n",
              " '/content/drive/MyDrive/Projects/02. Book Recommendations from Charles Darwin/datasets/FormationVegetableMould.txt',\n",
              " '/content/drive/MyDrive/Projects/02. Book Recommendations from Charles Darwin/datasets/FoundationsOriginofSpecies.txt',\n",
              " '/content/drive/MyDrive/Projects/02. Book Recommendations from Charles Darwin/datasets/GeologicalObservationsSouthAmerica.txt',\n",
              " '/content/drive/MyDrive/Projects/02. Book Recommendations from Charles Darwin/datasets/InsectivorousPlants.txt',\n",
              " '/content/drive/MyDrive/Projects/02. Book Recommendations from Charles Darwin/datasets/LifeandLettersVol1.txt',\n",
              " '/content/drive/MyDrive/Projects/02. Book Recommendations from Charles Darwin/datasets/LifeandLettersVol2.txt',\n",
              " '/content/drive/MyDrive/Projects/02. Book Recommendations from Charles Darwin/datasets/MonographCirripedia.txt',\n",
              " '/content/drive/MyDrive/Projects/02. Book Recommendations from Charles Darwin/datasets/MonographCirripediaVol2.txt',\n",
              " '/content/drive/MyDrive/Projects/02. Book Recommendations from Charles Darwin/datasets/MovementClimbingPlants.txt',\n",
              " '/content/drive/MyDrive/Projects/02. Book Recommendations from Charles Darwin/datasets/OriginofSpecies.txt',\n",
              " '/content/drive/MyDrive/Projects/02. Book Recommendations from Charles Darwin/datasets/PowerMovementPlants.txt',\n",
              " '/content/drive/MyDrive/Projects/02. Book Recommendations from Charles Darwin/datasets/VariationPlantsAnimalsDomestication.txt',\n",
              " '/content/drive/MyDrive/Projects/02. Book Recommendations from Charles Darwin/datasets/VolcanicIslands.txt',\n",
              " '/content/drive/MyDrive/Projects/02. Book Recommendations from Charles Darwin/datasets/VoyageBeagle.txt']"
            ]
          },
          "metadata": {
            "tags": []
          },
          "execution_count": 1
        }
      ]
    },
    {
      "cell_type": "markdown",
      "metadata": {
        "id": "pr6j5ts-coe0"
      },
      "source": [
        "**Load the contents of each book into Python**\n",
        "\n",
        "As a first step, we need to load the content of these books into Python and do some basic pre-processing to facilitate the downstream analyses. We call such a collection of texts a corpus. We will also store the titles for these books for future reference and print their respective length to get a gauge for their contents."
      ]
    },
    {
      "cell_type": "code",
      "metadata": {
        "colab": {
          "base_uri": "https://localhost:8080/"
        },
        "id": "uru6Ty6GcJPF",
        "outputId": "f355a645-5c8b-4c9c-deda-0744d446d6a6"
      },
      "source": [
        "# Import libraries\n",
        "import re, os\n",
        "\n",
        "# Initialize the object that will contain the texts and titles\n",
        "txts = []\n",
        "titles = []\n",
        "\n",
        "for n in files:\n",
        "    # Open each file\n",
        "    f = open(n, encoding='utf-8-sig')\n",
        "    # Remove all non-alpha-numeric characters\n",
        "    content = re.sub('[\\W_]+',' ',f.read())\n",
        "    # Store the texts and titles of the books in two separate lists\n",
        "    txts.append(content)\n",
        "    titles.append(os.path.basename(n).replace(\".txt\", \"\"))\n",
        "\n",
        "# Print the length, in characters, of each book\n",
        "[len(t) for t in txts]"
      ],
      "execution_count": null,
      "outputs": [
        {
          "output_type": "execute_result",
          "data": {
            "text/plain": [
              "[123231,\n",
              " 496068,\n",
              " 1776539,\n",
              " 617088,\n",
              " 913713,\n",
              " 624232,\n",
              " 335920,\n",
              " 523021,\n",
              " 797401,\n",
              " 901406,\n",
              " 1047518,\n",
              " 1010643,\n",
              " 767492,\n",
              " 1660866,\n",
              " 298319,\n",
              " 916267,\n",
              " 1093567,\n",
              " 1043499,\n",
              " 341447,\n",
              " 1149574]"
            ]
          },
          "metadata": {
            "tags": []
          },
          "execution_count": 2
        }
      ]
    },
    {
      "cell_type": "markdown",
      "metadata": {
        "id": "9MmxxCNJdG3Y"
      },
      "source": [
        "**Find \"On the Origin of Species\"**\n",
        "\n",
        "For the next parts of this analysis, we will often check the results returned by our method for a given book. For consistency, we will refer to Darwin's most famous book: \"On the Origin of Species.\" Let's find to which index this book is associated."
      ]
    },
    {
      "cell_type": "code",
      "metadata": {
        "colab": {
          "base_uri": "https://localhost:8080/"
        },
        "id": "_vzP_1oKcQ1D",
        "outputId": "980d4ae5-4fbd-4f8b-f065-f1102e421da6"
      },
      "source": [
        "# Browse the list containing all the titles\n",
        "for i in range(len(titles)):\n",
        "    # Store the index if the title is \"OriginofSpecies\"\n",
        "    if titles[i] == \"OriginofSpecies\":\n",
        "        ori = i\n",
        "        \n",
        "# Print the stored index\n",
        "print(ori)"
      ],
      "execution_count": null,
      "outputs": [
        {
          "output_type": "stream",
          "text": [
            "15\n"
          ],
          "name": "stdout"
        }
      ]
    },
    {
      "cell_type": "markdown",
      "metadata": {
        "id": "KGrkEYl7dZi_"
      },
      "source": [
        "**Tokenize the corpus**\n",
        "\n",
        "As a next step, we need to transform the corpus into a format that is easier to deal with for the downstream analyses. We will tokenize our corpus, i.e., transform each text into a list of the individual words (called tokens) it is made of. To check the output of our process, we will print the first 20 tokens of \"On the Origin of Species\"."
      ]
    },
    {
      "cell_type": "code",
      "metadata": {
        "colab": {
          "base_uri": "https://localhost:8080/"
        },
        "id": "5pWcYzvDdWKM",
        "outputId": "311e3e6a-cbc0-4885-f372-f66c779d08ac"
      },
      "source": [
        "# Define a list of stop words\n",
        "stoplist = set('for a of the and to in to be which some is at that we i who whom show via may my our might as well'.split())\n",
        "\n",
        "# Convert the text to lower case \n",
        "txts_lower_case = [t.lower() for t in txts]\n",
        "\n",
        "# Transform the text into tokens \n",
        "txts_split = [t.split() for t in txts_lower_case]\n",
        "\n",
        "# Remove tokens which are part of the list of stop words\n",
        "texts = [[word for word in t if word not in stoplist] for t in txts_split]\n",
        "\n",
        "# Print the first 20 tokens for the \"On the Origin of Species\" book\n",
        "print(texts[ori][:20])"
      ],
      "execution_count": null,
      "outputs": [
        {
          "output_type": "stream",
          "text": [
            "['on', 'origin', 'species', 'but', 'with', 'regard', 'material', 'world', 'can', 'least', 'go', 'so', 'far', 'this', 'can', 'perceive', 'events', 'are', 'brought', 'about']\n"
          ],
          "name": "stdout"
        }
      ]
    },
    {
      "cell_type": "markdown",
      "metadata": {
        "id": "fcEAYXCjdnBD"
      },
      "source": [
        "**Stemming of the tokenized corpus**\n",
        "\n",
        "If you have read On the Origin of Species, you will have noticed that Charles Darwin can use different words to refer to a similar concept. For example, the concept of selection can be described by words such as selection, selective, select or selects. This will dilute the weight given to this concept in the book and potentially bias the results of the analysis.\n",
        "\n",
        "To solve this issue, it is a common practice to use a stemming process, which will group together the inflected forms of a word so they can be analysed as a single item: the stem. In our On the Origin of Species example, the words related to the concept of selection would be gathered under the select stem.\n",
        "\n",
        "As we are analysing 20 full books, the stemming algorithm can take several minutes to run and, in order to make the process faster, we will directly load the final results from a pickle file and review the method used to generate it."
      ]
    },
    {
      "cell_type": "code",
      "metadata": {
        "id": "ms6MvJ0Hdji4"
      },
      "source": [
        "# Load the Porter stemming function from the nltk package\n",
        "import pickle\n",
        "from nltk.stem import PorterStemmer\n",
        "\n",
        "# Create an instance of a PorterStemmer object\n",
        "porter = PorterStemmer()\n",
        "\n",
        "# For each token of each text, we generated its stem \n",
        "texts_stem = [[porter.stem(token) for token in text] for text in texts]\n",
        "\n",
        "# Save to pickle file\n",
        "pickle.dump( texts_stem, open( \"/content/drive/MyDrive/Projects/02. Book Recommendations from Charles Darwin/datasets/texts_stem.p\", \"wb\" ) )"
      ],
      "execution_count": null,
      "outputs": []
    },
    {
      "cell_type": "code",
      "metadata": {
        "colab": {
          "base_uri": "https://localhost:8080/"
        },
        "id": "r1hBG_oxdu0j",
        "outputId": "b2cea161-70cb-4227-c135-b21acc22091a"
      },
      "source": [
        "# Load the stemmed tokens list from the pregenerated pickle file\n",
        "texts_stem = pickle.load(open(\"/content/drive/MyDrive/Projects/02. Book Recommendations from Charles Darwin/datasets/texts_stem.p\",'rb'))\n",
        "\n",
        "# Print the 20 first stemmed tokens from the \"On the Origin of Species\" book\n",
        "print(texts_stem[ori][:20])"
      ],
      "execution_count": null,
      "outputs": [
        {
          "output_type": "stream",
          "text": [
            "['on', 'origin', 'speci', 'but', 'with', 'regard', 'materi', 'world', 'can', 'least', 'go', 'so', 'far', 'thi', 'can', 'perceiv', 'event', 'are', 'brought', 'about']\n"
          ],
          "name": "stdout"
        }
      ]
    },
    {
      "cell_type": "markdown",
      "metadata": {
        "id": "1YbDqcxpeck7"
      },
      "source": [
        "**Building a bag-of-words model**\n",
        "\n",
        "Now that we have transformed the texts into stemmed tokens, we need to build models that will be useable by downstream algorithms.\n",
        "\n",
        "First, we need to will create a universe of all words contained in our corpus of Charles Darwin's books, which we call a dictionary. Then, using the stemmed tokens and the dictionary, we will create bag-of-words models (BoW) of each of our texts. The BoW models will represent our books as a list of all uniques tokens they contain associated with their respective number of occurrences.\n",
        "\n",
        "To better understand the structure of such a model, we will print the five first elements of one of the \"On the Origin of Species\" BoW model."
      ]
    },
    {
      "cell_type": "code",
      "metadata": {
        "colab": {
          "base_uri": "https://localhost:8080/"
        },
        "id": "O0YgAXeFd6_n",
        "outputId": "29be2459-d2c6-4b6a-cb58-856212f007de"
      },
      "source": [
        "# Load the functions allowing to create and use dictionaries\n",
        "from gensim import corpora\n",
        "\n",
        "# Create a dictionary from the stemmed tokens\n",
        "dictionary = corpora.Dictionary(texts_stem)\n",
        "\n",
        "# Create a bag-of-words model for each book, using the previously generated dictionary\n",
        "bows = [dictionary.doc2bow(text) for text in texts_stem]\n",
        "\n",
        "# Print the first five elements of the On the Origin of species' BoW model\n",
        "print(bows[ori][:5])"
      ],
      "execution_count": null,
      "outputs": [
        {
          "output_type": "stream",
          "text": [
            "[(0, 11), (5, 51), (6, 1), (8, 2), (21, 1)]\n"
          ],
          "name": "stdout"
        }
      ]
    },
    {
      "cell_type": "markdown",
      "metadata": {
        "id": "2PM7-4K0esHL"
      },
      "source": [
        "**The most common words of a given book**\n",
        "\n",
        "The results returned by the bag-of-words model is certainly easy to use for a computer but hard to interpret for a human. It is not straightforward to understand which stemmed tokens are present in a given book from Charles Darwin, and how many occurrences we can find.\n",
        "\n",
        "In order to better understand how the model has been generated and visualize its content, we will transform it into a DataFrame and display the 10 most common stems for the book \"On the Origin of Species\"."
      ]
    },
    {
      "cell_type": "code",
      "metadata": {
        "colab": {
          "base_uri": "https://localhost:8080/"
        },
        "id": "veKzWTh4eoaY",
        "outputId": "07278d63-8dd0-4488-bf40-fb94af994f78"
      },
      "source": [
        "# Import pandas to create and manipulate DataFrames\n",
        "import pandas as pd\n",
        "\n",
        "# Convert the BoW model for \"On the Origin of Species\" into a DataFrame\n",
        "df_bow_origin = pd.DataFrame(bows[15])\n",
        "\n",
        "# Add the column names to the DataFrame\n",
        "df_bow_origin.columns=['index','occurrences']\n",
        "\n",
        "# Add a column containing the token corresponding to the dictionary index\n",
        "df_bow_origin['token'] = [dictionary[index] for index in df_bow_origin['index']]\n",
        "\n",
        "# Sort the DataFrame by descending number of occurrences and print the first 10 values\n",
        "print(df_bow_origin.sort_values(by = 'occurrences', ascending = False).head(10))"
      ],
      "execution_count": null,
      "outputs": [
        {
          "output_type": "stream",
          "text": [
            "      index  occurrences  token\n",
            "748    1168         2023   have\n",
            "1119   1736         1558     on\n",
            "1489   2288         1543  speci\n",
            "892    1366         1480     it\n",
            "239     393         1362     by\n",
            "1128   1747         1201     or\n",
            "125     218         1140    are\n",
            "665    1043         1137   from\n",
            "1774   2703         1000   with\n",
            "1609   2452          962    thi\n"
          ],
          "name": "stdout"
        }
      ]
    },
    {
      "cell_type": "markdown",
      "metadata": {
        "id": "ndLOHW6Ve62X"
      },
      "source": [
        "**Build a tf-idf model**\n",
        "\n",
        "If it wasn't for the presence of the stem \"speci\", we would have a hard time to guess this BoW model comes from the On the Origin of Species book. The most recurring words are, apart from few exceptions, very common and unlikely to carry any information peculiar to the given book. We need to use an additional step in order to determine which tokens are the most specific to a book.\n",
        "\n",
        "To do so, we will use a tf-idf model (term frequency–inverse document frequency). This model defines the importance of each word depending on how frequent it is in this text and how infrequent it is in all the other documents. As a result, a high tf-idf score for a word will indicate that this word is specific to this text.\n",
        "\n",
        "After computing those scores, we will print the 10 words most specific to the \"On the Origin of Species\" book (i.e., the 10 words with the highest tf-idf score).\n",
        "\n"
      ]
    },
    {
      "cell_type": "code",
      "metadata": {
        "colab": {
          "base_uri": "https://localhost:8080/"
        },
        "id": "HNiB_ToNe2I9",
        "outputId": "7a0ce5fe-e10c-49e0-ef68-e92bf36bf06e"
      },
      "source": [
        "# Load the gensim functions that will allow us to generate tf-idf models\n",
        "from gensim.models import TfidfModel\n",
        "\n",
        "# Generate the tf-idf model\n",
        "model = TfidfModel(bows)\n",
        "\n",
        "# Print the first 10 entries of the model for \"On the Origin of Species\"\n",
        "print(model[bows[ori]][0:10])"
      ],
      "execution_count": null,
      "outputs": [
        {
          "output_type": "stream",
          "text": [
            "[(8, 0.00020408683039616044), (21, 0.0005723177174474165), (23, 0.001714008058633542), (27, 0.0006466337090765656), (28, 0.0025710120879503125), (31, 0.000857004029316771), (35, 0.001016241827361025), (36, 0.001016241827361025), (51, 0.0008878482198272165), (54, 0.00203248365472205)]\n"
          ],
          "name": "stdout"
        }
      ]
    },
    {
      "cell_type": "markdown",
      "metadata": {
        "id": "hZorh47ofFbS"
      },
      "source": [
        "**The results of the tf-idf model**\n",
        "\n",
        "Once again, the format of those results is hard to interpret for a human. Therefore, we will transform it into a more readable version and display the 10 most specific words for the \"On the Origin of Species\" book."
      ]
    },
    {
      "cell_type": "code",
      "metadata": {
        "colab": {
          "base_uri": "https://localhost:8080/"
        },
        "id": "NemtdIUyfBQs",
        "outputId": "b3cfcc9c-2c7d-40bc-e67e-906cf2fcd1e4"
      },
      "source": [
        "# Convert the tf-idf model for \"On the Origin of Species\" into a DataFrame\n",
        "df_tfidf = pd.DataFrame(model[bows[ori]])\n",
        "\n",
        "# Name the columns of the DataFrame id and score\n",
        "df_tfidf.columns=['id','score']\n",
        "\n",
        "# Add the tokens corresponding to the numerical indices for better readability\n",
        "df_tfidf['token'] = [ dictionary[index] for index in df_tfidf['id']]\n",
        "\n",
        "# Sort the DataFrame by descending tf-idf score and print the first 10 rows.\n",
        "print(df_tfidf.sort_values(by = 'score', ascending = False).head(10))"
      ],
      "execution_count": null,
      "outputs": [
        {
          "output_type": "stream",
          "text": [
            "         id     score      token\n",
            "880    2164  0.327823     select\n",
            "3103  10108  0.204162     pigeon\n",
            "128     369  0.197968      breed\n",
            "2985   9395  0.167705     migrat\n",
            "947    2325  0.148371     steril\n",
            "285     752  0.146172     domest\n",
            "504    1255  0.128433     hybrid\n",
            "371     966  0.127694     fertil\n",
            "3840  16046  0.124547    gärtner\n",
            "3536  12729  0.121348  naturalis\n"
          ],
          "name": "stdout"
        }
      ]
    },
    {
      "cell_type": "markdown",
      "metadata": {
        "id": "K9r7QBm6fOGq"
      },
      "source": [
        "**Compute distance between texts**\n",
        "\n",
        "The results of the tf-idf algorithm now return stemmed tokens which are specific to each book. We can, for example, see that topics such as selection, breeding or domestication are defining \"On the Origin of Species\" (and yes, in this book, Charles Darwin talks quite a lot about pigeons too). Now that we have a model associating tokens to how specific they are to each book, we can measure how related to books are between each other.\n",
        "\n",
        "To this purpose, we will use a measure of similarity called cosine similarity and we will visualize the results as a distance matrix, i.e., a matrix showing all pairwise distances between Darwin's books."
      ]
    },
    {
      "cell_type": "code",
      "metadata": {
        "colab": {
          "base_uri": "https://localhost:8080/",
          "height": 689
        },
        "id": "4yJM_Q-8fLbl",
        "outputId": "a66dcb77-cec1-4399-be96-c53873470419"
      },
      "source": [
        "# Load the library allowing similarity computations\n",
        "from gensim import similarities\n",
        "from IPython.display import display, HTML\n",
        "\n",
        "# Compute the similarity matrix (pairwise distance between all texts)\n",
        "sims = similarities.MatrixSimilarity(model[bows])\n",
        "\n",
        "# Transform the resulting list into a dataframe\n",
        "sim_df = pd.DataFrame(list(sims))\n",
        "\n",
        "# Add the titles of the books as columns and index of the dataframe\n",
        "sim_df.columns = titles\n",
        "sim_df.index = titles\n",
        "\n",
        "# Print the resulting matrix\n",
        "display(HTML(sim_df.to_html()))"
      ],
      "execution_count": null,
      "outputs": [
        {
          "output_type": "display_data",
          "data": {
            "text/html": [
              "<table border=\"1\" class=\"dataframe\">\n",
              "  <thead>\n",
              "    <tr style=\"text-align: right;\">\n",
              "      <th></th>\n",
              "      <th>Autobiography</th>\n",
              "      <th>CoralReefs</th>\n",
              "      <th>DescentofMan</th>\n",
              "      <th>DifferentFormsofFlowers</th>\n",
              "      <th>EffectsCrossSelfFertilization</th>\n",
              "      <th>ExpressionofEmotionManAnimals</th>\n",
              "      <th>FormationVegetableMould</th>\n",
              "      <th>FoundationsOriginofSpecies</th>\n",
              "      <th>GeologicalObservationsSouthAmerica</th>\n",
              "      <th>InsectivorousPlants</th>\n",
              "      <th>LifeandLettersVol1</th>\n",
              "      <th>LifeandLettersVol2</th>\n",
              "      <th>MonographCirripedia</th>\n",
              "      <th>MonographCirripediaVol2</th>\n",
              "      <th>MovementClimbingPlants</th>\n",
              "      <th>OriginofSpecies</th>\n",
              "      <th>PowerMovementPlants</th>\n",
              "      <th>VariationPlantsAnimalsDomestication</th>\n",
              "      <th>VolcanicIslands</th>\n",
              "      <th>VoyageBeagle</th>\n",
              "    </tr>\n",
              "  </thead>\n",
              "  <tbody>\n",
              "    <tr>\n",
              "      <th>Autobiography</th>\n",
              "      <td>1.000000</td>\n",
              "      <td>0.049722</td>\n",
              "      <td>0.080789</td>\n",
              "      <td>0.066615</td>\n",
              "      <td>0.077006</td>\n",
              "      <td>0.089345</td>\n",
              "      <td>0.041182</td>\n",
              "      <td>0.058990</td>\n",
              "      <td>0.030679</td>\n",
              "      <td>0.014945</td>\n",
              "      <td>0.399534</td>\n",
              "      <td>0.220023</td>\n",
              "      <td>0.005854</td>\n",
              "      <td>0.008456</td>\n",
              "      <td>0.022999</td>\n",
              "      <td>0.101199</td>\n",
              "      <td>0.016059</td>\n",
              "      <td>0.048989</td>\n",
              "      <td>0.038630</td>\n",
              "      <td>0.184288</td>\n",
              "    </tr>\n",
              "    <tr>\n",
              "      <th>CoralReefs</th>\n",
              "      <td>0.049722</td>\n",
              "      <td>1.000000</td>\n",
              "      <td>0.009516</td>\n",
              "      <td>0.001980</td>\n",
              "      <td>0.001936</td>\n",
              "      <td>0.005062</td>\n",
              "      <td>0.029445</td>\n",
              "      <td>0.022066</td>\n",
              "      <td>0.060744</td>\n",
              "      <td>0.002284</td>\n",
              "      <td>0.031211</td>\n",
              "      <td>0.017772</td>\n",
              "      <td>0.006321</td>\n",
              "      <td>0.010497</td>\n",
              "      <td>0.001534</td>\n",
              "      <td>0.039200</td>\n",
              "      <td>0.002686</td>\n",
              "      <td>0.011383</td>\n",
              "      <td>0.057402</td>\n",
              "      <td>0.267414</td>\n",
              "    </tr>\n",
              "    <tr>\n",
              "      <th>DescentofMan</th>\n",
              "      <td>0.080789</td>\n",
              "      <td>0.009516</td>\n",
              "      <td>1.000000</td>\n",
              "      <td>0.072792</td>\n",
              "      <td>0.029997</td>\n",
              "      <td>0.148642</td>\n",
              "      <td>0.027106</td>\n",
              "      <td>0.135001</td>\n",
              "      <td>0.009628</td>\n",
              "      <td>0.009468</td>\n",
              "      <td>0.060040</td>\n",
              "      <td>0.080569</td>\n",
              "      <td>0.053426</td>\n",
              "      <td>0.042937</td>\n",
              "      <td>0.005157</td>\n",
              "      <td>0.267734</td>\n",
              "      <td>0.011267</td>\n",
              "      <td>0.228437</td>\n",
              "      <td>0.007885</td>\n",
              "      <td>0.123902</td>\n",
              "    </tr>\n",
              "    <tr>\n",
              "      <th>DifferentFormsofFlowers</th>\n",
              "      <td>0.066615</td>\n",
              "      <td>0.001980</td>\n",
              "      <td>0.072792</td>\n",
              "      <td>1.000000</td>\n",
              "      <td>0.391788</td>\n",
              "      <td>0.006545</td>\n",
              "      <td>0.010621</td>\n",
              "      <td>0.039993</td>\n",
              "      <td>0.002855</td>\n",
              "      <td>0.007487</td>\n",
              "      <td>0.016188</td>\n",
              "      <td>0.046692</td>\n",
              "      <td>0.009403</td>\n",
              "      <td>0.005451</td>\n",
              "      <td>0.008165</td>\n",
              "      <td>0.129152</td>\n",
              "      <td>0.018831</td>\n",
              "      <td>0.049405</td>\n",
              "      <td>0.002624</td>\n",
              "      <td>0.013213</td>\n",
              "    </tr>\n",
              "    <tr>\n",
              "      <th>EffectsCrossSelfFertilization</th>\n",
              "      <td>0.077006</td>\n",
              "      <td>0.001936</td>\n",
              "      <td>0.029997</td>\n",
              "      <td>0.391788</td>\n",
              "      <td>1.000000</td>\n",
              "      <td>0.006871</td>\n",
              "      <td>0.032270</td>\n",
              "      <td>0.040248</td>\n",
              "      <td>0.002247</td>\n",
              "      <td>0.006763</td>\n",
              "      <td>0.019609</td>\n",
              "      <td>0.046567</td>\n",
              "      <td>0.003218</td>\n",
              "      <td>0.002957</td>\n",
              "      <td>0.014939</td>\n",
              "      <td>0.146700</td>\n",
              "      <td>0.039520</td>\n",
              "      <td>0.054458</td>\n",
              "      <td>0.002183</td>\n",
              "      <td>0.017183</td>\n",
              "    </tr>\n",
              "    <tr>\n",
              "      <th>ExpressionofEmotionManAnimals</th>\n",
              "      <td>0.089345</td>\n",
              "      <td>0.005062</td>\n",
              "      <td>0.148642</td>\n",
              "      <td>0.006545</td>\n",
              "      <td>0.006871</td>\n",
              "      <td>1.000000</td>\n",
              "      <td>0.021066</td>\n",
              "      <td>0.047103</td>\n",
              "      <td>0.005246</td>\n",
              "      <td>0.011461</td>\n",
              "      <td>0.065391</td>\n",
              "      <td>0.049333</td>\n",
              "      <td>0.016802</td>\n",
              "      <td>0.029644</td>\n",
              "      <td>0.005942</td>\n",
              "      <td>0.063242</td>\n",
              "      <td>0.011234</td>\n",
              "      <td>0.082567</td>\n",
              "      <td>0.005595</td>\n",
              "      <td>0.099124</td>\n",
              "    </tr>\n",
              "    <tr>\n",
              "      <th>FormationVegetableMould</th>\n",
              "      <td>0.041182</td>\n",
              "      <td>0.029445</td>\n",
              "      <td>0.027106</td>\n",
              "      <td>0.010621</td>\n",
              "      <td>0.032270</td>\n",
              "      <td>0.021066</td>\n",
              "      <td>1.000000</td>\n",
              "      <td>0.021468</td>\n",
              "      <td>0.067712</td>\n",
              "      <td>0.035498</td>\n",
              "      <td>0.028357</td>\n",
              "      <td>0.023943</td>\n",
              "      <td>0.019864</td>\n",
              "      <td>0.023915</td>\n",
              "      <td>0.038823</td>\n",
              "      <td>0.049519</td>\n",
              "      <td>0.039911</td>\n",
              "      <td>0.032647</td>\n",
              "      <td>0.059299</td>\n",
              "      <td>0.098331</td>\n",
              "    </tr>\n",
              "    <tr>\n",
              "      <th>FoundationsOriginofSpecies</th>\n",
              "      <td>0.058990</td>\n",
              "      <td>0.022066</td>\n",
              "      <td>0.135001</td>\n",
              "      <td>0.039993</td>\n",
              "      <td>0.040248</td>\n",
              "      <td>0.047103</td>\n",
              "      <td>0.021468</td>\n",
              "      <td>1.000000</td>\n",
              "      <td>0.027300</td>\n",
              "      <td>0.005995</td>\n",
              "      <td>0.057749</td>\n",
              "      <td>0.054703</td>\n",
              "      <td>0.007650</td>\n",
              "      <td>0.010762</td>\n",
              "      <td>0.003971</td>\n",
              "      <td>0.322736</td>\n",
              "      <td>0.008712</td>\n",
              "      <td>0.196578</td>\n",
              "      <td>0.017528</td>\n",
              "      <td>0.089075</td>\n",
              "    </tr>\n",
              "    <tr>\n",
              "      <th>GeologicalObservationsSouthAmerica</th>\n",
              "      <td>0.030679</td>\n",
              "      <td>0.060744</td>\n",
              "      <td>0.009628</td>\n",
              "      <td>0.002855</td>\n",
              "      <td>0.002247</td>\n",
              "      <td>0.005246</td>\n",
              "      <td>0.067712</td>\n",
              "      <td>0.027300</td>\n",
              "      <td>1.000000</td>\n",
              "      <td>0.006844</td>\n",
              "      <td>0.028691</td>\n",
              "      <td>0.012241</td>\n",
              "      <td>0.009260</td>\n",
              "      <td>0.023486</td>\n",
              "      <td>0.002046</td>\n",
              "      <td>0.052878</td>\n",
              "      <td>0.003450</td>\n",
              "      <td>0.013737</td>\n",
              "      <td>0.372272</td>\n",
              "      <td>0.259514</td>\n",
              "    </tr>\n",
              "    <tr>\n",
              "      <th>InsectivorousPlants</th>\n",
              "      <td>0.014945</td>\n",
              "      <td>0.002284</td>\n",
              "      <td>0.009468</td>\n",
              "      <td>0.007487</td>\n",
              "      <td>0.006763</td>\n",
              "      <td>0.011461</td>\n",
              "      <td>0.035498</td>\n",
              "      <td>0.005995</td>\n",
              "      <td>0.006844</td>\n",
              "      <td>1.000000</td>\n",
              "      <td>0.006062</td>\n",
              "      <td>0.016549</td>\n",
              "      <td>0.019091</td>\n",
              "      <td>0.019657</td>\n",
              "      <td>0.249011</td>\n",
              "      <td>0.014982</td>\n",
              "      <td>0.022841</td>\n",
              "      <td>0.010321</td>\n",
              "      <td>0.008526</td>\n",
              "      <td>0.014758</td>\n",
              "    </tr>\n",
              "    <tr>\n",
              "      <th>LifeandLettersVol1</th>\n",
              "      <td>0.399534</td>\n",
              "      <td>0.031211</td>\n",
              "      <td>0.060040</td>\n",
              "      <td>0.016188</td>\n",
              "      <td>0.019609</td>\n",
              "      <td>0.065391</td>\n",
              "      <td>0.028357</td>\n",
              "      <td>0.057749</td>\n",
              "      <td>0.028691</td>\n",
              "      <td>0.006062</td>\n",
              "      <td>1.000000</td>\n",
              "      <td>0.885953</td>\n",
              "      <td>0.005839</td>\n",
              "      <td>0.012716</td>\n",
              "      <td>0.005533</td>\n",
              "      <td>0.098352</td>\n",
              "      <td>0.009439</td>\n",
              "      <td>0.054805</td>\n",
              "      <td>0.026517</td>\n",
              "      <td>0.172502</td>\n",
              "    </tr>\n",
              "    <tr>\n",
              "      <th>LifeandLettersVol2</th>\n",
              "      <td>0.220023</td>\n",
              "      <td>0.017772</td>\n",
              "      <td>0.080569</td>\n",
              "      <td>0.046692</td>\n",
              "      <td>0.046567</td>\n",
              "      <td>0.049333</td>\n",
              "      <td>0.023943</td>\n",
              "      <td>0.054703</td>\n",
              "      <td>0.012241</td>\n",
              "      <td>0.016549</td>\n",
              "      <td>0.885953</td>\n",
              "      <td>1.000000</td>\n",
              "      <td>0.004961</td>\n",
              "      <td>0.010570</td>\n",
              "      <td>0.017673</td>\n",
              "      <td>0.097736</td>\n",
              "      <td>0.012017</td>\n",
              "      <td>0.050260</td>\n",
              "      <td>0.011930</td>\n",
              "      <td>0.090674</td>\n",
              "    </tr>\n",
              "    <tr>\n",
              "      <th>MonographCirripedia</th>\n",
              "      <td>0.005854</td>\n",
              "      <td>0.006321</td>\n",
              "      <td>0.053426</td>\n",
              "      <td>0.009403</td>\n",
              "      <td>0.003218</td>\n",
              "      <td>0.016802</td>\n",
              "      <td>0.019864</td>\n",
              "      <td>0.007650</td>\n",
              "      <td>0.009260</td>\n",
              "      <td>0.019091</td>\n",
              "      <td>0.005839</td>\n",
              "      <td>0.004961</td>\n",
              "      <td>1.000000</td>\n",
              "      <td>0.516038</td>\n",
              "      <td>0.012450</td>\n",
              "      <td>0.031278</td>\n",
              "      <td>0.018565</td>\n",
              "      <td>0.022999</td>\n",
              "      <td>0.010054</td>\n",
              "      <td>0.014269</td>\n",
              "    </tr>\n",
              "    <tr>\n",
              "      <th>MonographCirripediaVol2</th>\n",
              "      <td>0.008456</td>\n",
              "      <td>0.010497</td>\n",
              "      <td>0.042937</td>\n",
              "      <td>0.005451</td>\n",
              "      <td>0.002957</td>\n",
              "      <td>0.029644</td>\n",
              "      <td>0.023915</td>\n",
              "      <td>0.010762</td>\n",
              "      <td>0.023486</td>\n",
              "      <td>0.019657</td>\n",
              "      <td>0.012716</td>\n",
              "      <td>0.010570</td>\n",
              "      <td>0.516038</td>\n",
              "      <td>1.000000</td>\n",
              "      <td>0.006762</td>\n",
              "      <td>0.037865</td>\n",
              "      <td>0.022154</td>\n",
              "      <td>0.029694</td>\n",
              "      <td>0.016404</td>\n",
              "      <td>0.024734</td>\n",
              "    </tr>\n",
              "    <tr>\n",
              "      <th>MovementClimbingPlants</th>\n",
              "      <td>0.022999</td>\n",
              "      <td>0.001534</td>\n",
              "      <td>0.005157</td>\n",
              "      <td>0.008165</td>\n",
              "      <td>0.014939</td>\n",
              "      <td>0.005942</td>\n",
              "      <td>0.038823</td>\n",
              "      <td>0.003971</td>\n",
              "      <td>0.002046</td>\n",
              "      <td>0.249011</td>\n",
              "      <td>0.005533</td>\n",
              "      <td>0.017673</td>\n",
              "      <td>0.012450</td>\n",
              "      <td>0.006762</td>\n",
              "      <td>1.000000</td>\n",
              "      <td>0.008858</td>\n",
              "      <td>0.104310</td>\n",
              "      <td>0.011361</td>\n",
              "      <td>0.002842</td>\n",
              "      <td>0.012328</td>\n",
              "    </tr>\n",
              "    <tr>\n",
              "      <th>OriginofSpecies</th>\n",
              "      <td>0.101199</td>\n",
              "      <td>0.039200</td>\n",
              "      <td>0.267734</td>\n",
              "      <td>0.129152</td>\n",
              "      <td>0.146700</td>\n",
              "      <td>0.063242</td>\n",
              "      <td>0.049519</td>\n",
              "      <td>0.322736</td>\n",
              "      <td>0.052878</td>\n",
              "      <td>0.014982</td>\n",
              "      <td>0.098352</td>\n",
              "      <td>0.097736</td>\n",
              "      <td>0.031278</td>\n",
              "      <td>0.037865</td>\n",
              "      <td>0.008858</td>\n",
              "      <td>1.000000</td>\n",
              "      <td>0.018170</td>\n",
              "      <td>0.404093</td>\n",
              "      <td>0.035924</td>\n",
              "      <td>0.165247</td>\n",
              "    </tr>\n",
              "    <tr>\n",
              "      <th>PowerMovementPlants</th>\n",
              "      <td>0.016059</td>\n",
              "      <td>0.002686</td>\n",
              "      <td>0.011267</td>\n",
              "      <td>0.018831</td>\n",
              "      <td>0.039520</td>\n",
              "      <td>0.011234</td>\n",
              "      <td>0.039911</td>\n",
              "      <td>0.008712</td>\n",
              "      <td>0.003450</td>\n",
              "      <td>0.022841</td>\n",
              "      <td>0.009439</td>\n",
              "      <td>0.012017</td>\n",
              "      <td>0.018565</td>\n",
              "      <td>0.022154</td>\n",
              "      <td>0.104310</td>\n",
              "      <td>0.018170</td>\n",
              "      <td>1.000000</td>\n",
              "      <td>0.020184</td>\n",
              "      <td>0.003787</td>\n",
              "      <td>0.023967</td>\n",
              "    </tr>\n",
              "    <tr>\n",
              "      <th>VariationPlantsAnimalsDomestication</th>\n",
              "      <td>0.048989</td>\n",
              "      <td>0.011383</td>\n",
              "      <td>0.228437</td>\n",
              "      <td>0.049405</td>\n",
              "      <td>0.054458</td>\n",
              "      <td>0.082567</td>\n",
              "      <td>0.032647</td>\n",
              "      <td>0.196578</td>\n",
              "      <td>0.013737</td>\n",
              "      <td>0.010321</td>\n",
              "      <td>0.054805</td>\n",
              "      <td>0.050260</td>\n",
              "      <td>0.022999</td>\n",
              "      <td>0.029694</td>\n",
              "      <td>0.011361</td>\n",
              "      <td>0.404093</td>\n",
              "      <td>0.020184</td>\n",
              "      <td>1.000000</td>\n",
              "      <td>0.012210</td>\n",
              "      <td>0.112421</td>\n",
              "    </tr>\n",
              "    <tr>\n",
              "      <th>VolcanicIslands</th>\n",
              "      <td>0.038630</td>\n",
              "      <td>0.057402</td>\n",
              "      <td>0.007885</td>\n",
              "      <td>0.002624</td>\n",
              "      <td>0.002183</td>\n",
              "      <td>0.005595</td>\n",
              "      <td>0.059299</td>\n",
              "      <td>0.017528</td>\n",
              "      <td>0.372272</td>\n",
              "      <td>0.008526</td>\n",
              "      <td>0.026517</td>\n",
              "      <td>0.011930</td>\n",
              "      <td>0.010054</td>\n",
              "      <td>0.016404</td>\n",
              "      <td>0.002842</td>\n",
              "      <td>0.035924</td>\n",
              "      <td>0.003787</td>\n",
              "      <td>0.012210</td>\n",
              "      <td>1.000000</td>\n",
              "      <td>0.138035</td>\n",
              "    </tr>\n",
              "    <tr>\n",
              "      <th>VoyageBeagle</th>\n",
              "      <td>0.184288</td>\n",
              "      <td>0.267414</td>\n",
              "      <td>0.123902</td>\n",
              "      <td>0.013213</td>\n",
              "      <td>0.017183</td>\n",
              "      <td>0.099124</td>\n",
              "      <td>0.098331</td>\n",
              "      <td>0.089075</td>\n",
              "      <td>0.259514</td>\n",
              "      <td>0.014758</td>\n",
              "      <td>0.172502</td>\n",
              "      <td>0.090674</td>\n",
              "      <td>0.014269</td>\n",
              "      <td>0.024734</td>\n",
              "      <td>0.012328</td>\n",
              "      <td>0.165247</td>\n",
              "      <td>0.023967</td>\n",
              "      <td>0.112421</td>\n",
              "      <td>0.138035</td>\n",
              "      <td>1.000000</td>\n",
              "    </tr>\n",
              "  </tbody>\n",
              "</table>"
            ],
            "text/plain": [
              "<IPython.core.display.HTML object>"
            ]
          },
          "metadata": {
            "tags": []
          }
        }
      ]
    },
    {
      "cell_type": "markdown",
      "metadata": {
        "id": "sOv9zrf4fcSR"
      },
      "source": [
        "**The book most similar to \"On the Origin of Species\"**\n",
        "\n",
        "We now have a matrix containing all the similarity measures between any pair of books from Charles Darwin! We can now use this matrix to quickly extract the information we need, i.e., the distance between one book and one or several others.\n",
        "\n",
        "As a first step, we will display which books are the most similar to \"On the Origin of Species,\" more specifically we will produce a bar chart showing all books ranked by how similar they are to Darwin's landmark work."
      ]
    },
    {
      "cell_type": "code",
      "metadata": {
        "colab": {
          "base_uri": "https://localhost:8080/",
          "height": 621
        },
        "id": "hZMxA2rTfVDV",
        "outputId": "1aa64c89-880b-4243-f331-115cef3653d8"
      },
      "source": [
        "# This is needed to display plots in a notebook\n",
        "%matplotlib inline\n",
        "\n",
        "# Import libraries\n",
        "import matplotlib.pyplot as plt\n",
        "\n",
        "# Select the column corresponding to \"On the Origin of Species\" and \n",
        "v = sim_df['OriginofSpecies']\n",
        "\n",
        "fig = plt.figure(figsize=(10,10))\n",
        "# Sort by ascending scores\n",
        "v_sorted = v.sort_values()\n",
        "\n",
        "# Plot this data has a horizontal bar plot\n",
        "v_sorted.plot.barh(x='lab', y='val', rot=0)\n",
        "\n",
        "# Modify the axes labels and plot title for a better readability\n",
        "plt.xlabel('Similarity Score')\n",
        "plt.ylabel('Book Title')\n",
        "plt.title('Most similar books to \"On the Origin of Species\"')\n",
        "plt.show()"
      ],
      "execution_count": null,
      "outputs": [
        {
          "output_type": "display_data",
          "data": {
            "image/png": "[encoded data removed]",
            "text/plain": [
              "<Figure size 720x720 with 1 Axes>"
            ]
          },
          "metadata": {
            "tags": [],
            "needs_background": "light"
          }
        }
      ]
    },
    {
      "cell_type": "markdown",
      "metadata": {
        "id": "f0aAZaJUfncO"
      },
      "source": [
        "**Which books have similar content?**\n",
        "\n",
        "This turns out to be extremely useful if we want to determine a given book's most similar work. For example, we have just seen that if you enjoyed \"On the Origin of Species,\" you can read books discussing similar concepts such as \"The Variation of Animals and Plants under Domestication\" or \"The Descent of Man, and Selection in Relation to Sex.\" If you are familiar with Darwin's work, these suggestions will likely seem natural to you. Indeed, On the Origin of Species has a whole chapter about domestication and The Descent of Man, and Selection in Relation to Sex applies the theory of natural selection to human evolution. Hence, the results make sense.\n",
        "\n",
        "However, we now want to have a better understanding of the big picture and see how Darwin's books are generally related to each other (in terms of topics discussed). To this purpose, we will represent the whole similarity matrix as a dendrogram, which is a standard tool to display such data. This last approach will display all the information about book similarities at once. For example, we can find a book's closest relative but, also, we can visualize which groups of books have similar topics (e.g., the cluster about Charles Darwin personal life with his autobiography and letters). If you are familiar with Darwin's bibliography, the results should not surprise you too much, which indicates the method gives good results. Otherwise, next time you read one of the author's book, you will know which other books to read next in order to learn more about the topics it addressed."
      ]
    },
    {
      "cell_type": "code",
      "metadata": {
        "colab": {
          "base_uri": "https://localhost:8080/",
          "height": 592
        },
        "id": "hVfqnEPFfhoD",
        "outputId": "8d358015-165d-4b7b-e677-7dfe962a4c19"
      },
      "source": [
        "# Import libraries\n",
        "from scipy.cluster import hierarchy\n",
        "\n",
        "# Compute the clusters from the similarity matrix,\n",
        "# using the Ward variance minimization algorithm\n",
        "Z = hierarchy.linkage(sim_df,'ward')\n",
        "\n",
        "# Create the figure and set it's size.\n",
        "fig = plt.figure(figsize=(10,10))\n",
        "\n",
        "# Display this result as a horizontal dendrogram\n",
        "a = hierarchy.dendrogram(Z,leaf_font_size=10, labels=sim_df.index, orientation=\"left\")"
      ],
      "execution_count": null,
      "outputs": [
        {
          "output_type": "display_data",
          "data": {
            "image/png": "[encoded data removed]",
            "text/plain": [
              "<Figure size 720x720 with 1 Axes>"
            ]
          },
          "metadata": {
            "tags": [],
            "needs_background": "light"
          }
        }
      ]
    },
    {
      "cell_type": "markdown",
      "metadata": {
        "id": "yMrr8Jrhf1xm"
      },
      "source": [
        "**Summary**\n",
        "\n",
        "We have tokenize our corpus, i.e., transform each text into a list of the individual words (called tokens) it is made of.\n",
        "\n",
        "We built a tf-idf model (term frequency–inverse document frequency) which defines the importance of each word depending on how frequent it is in this text and how infrequent it is in all the other documents. Note: A high tf-idf score for a word will indicate that this word is specific to this text.\n",
        "\n",
        "We used cosine similarity and visualized the results as a distance matrix, i.e., a matrix showing all pairwise distances between Darwin's books to determine the most similar books to \"Origin of the species\".\n",
        "\n",
        "Finally, we studied how Darwin's books are generally related to each other (in terms of topics discussed)by representing the similarity matrix as a dendrogram."
      ]
    }
  ]
}